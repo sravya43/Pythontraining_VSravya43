{
  "nbformat": 4,
  "nbformat_minor": 0,
  "metadata": {
    "colab": {
      "provenance": []
    },
    "kernelspec": {
      "name": "python3",
      "display_name": "Python 3"
    },
    "language_info": {
      "name": "python"
    }
  },
  "cells": [
    {
      "cell_type": "code",
      "execution_count": 2,
      "metadata": {
        "id": "2e8MQAkenGOv",
        "outputId": "63773c8f-a671-4e94-f72a-64ded63c3305",
        "colab": {
          "base_uri": "https://localhost:8080/"
        }
      },
      "outputs": [
        {
          "output_type": "stream",
          "name": "stdout",
          "text": [
            "[]\n"
          ]
        }
      ],
      "source": [
        "f=open(\"aaa.txt\",\"w\")\n",
        "f.close()\n",
        "\n",
        "f=open(\"aaa.txt\",\"r\")\n",
        "data1=f.readlines()\n",
        "print(data1)\n",
        "f.close()"
      ]
    }
  ]
}